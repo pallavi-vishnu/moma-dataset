{
  "metadata": {
    "kernelspec": {
      "language": "python",
      "display_name": "Python 3",
      "name": "python3"
    },
    "language_info": {
      "name": "python",
      "version": "3.10.13",
      "mimetype": "text/x-python",
      "codemirror_mode": {
        "name": "ipython",
        "version": 3
      },
      "pygments_lexer": "ipython3",
      "nbconvert_exporter": "python",
      "file_extension": ".py"
    },
    "kaggle": {
      "accelerator": "none",
      "dataSources": [
        {
          "sourceId": 1535,
          "sourceType": "datasetVersion",
          "datasetId": 836
        }
      ],
      "dockerImageVersionId": 30698,
      "isInternetEnabled": false,
      "language": "python",
      "sourceType": "notebook",
      "isGpuEnabled": false
    },
    "colab": {
      "name": "moma_data",
      "provenance": [],
      "include_colab_link": true
    }
  },
  "nbformat_minor": 0,
  "nbformat": 4,
  "cells": [
    {
      "cell_type": "markdown",
      "metadata": {
        "id": "view-in-github",
        "colab_type": "text"
      },
      "source": [
        "<a href=\"https://colab.research.google.com/github/pallavi-vishnu/moma-dataset/blob/main/moma_data.ipynb\" target=\"_parent\"><img src=\"https://colab.research.google.com/assets/colab-badge.svg\" alt=\"Open In Colab\"/></a>"
      ]
    },
    {
      "source": [
        "\n",
        "# IMPORTANT: RUN THIS CELL IN ORDER TO IMPORT YOUR KAGGLE DATA SOURCES\n",
        "# TO THE CORRECT LOCATION (/kaggle/input) IN YOUR NOTEBOOK,\n",
        "# THEN FEEL FREE TO DELETE THIS CELL.\n",
        "# NOTE: THIS NOTEBOOK ENVIRONMENT DIFFERS FROM KAGGLE'S PYTHON\n",
        "# ENVIRONMENT SO THERE MAY BE MISSING LIBRARIES USED BY YOUR\n",
        "# NOTEBOOK.\n",
        "\n",
        "import os\n",
        "import sys\n",
        "from tempfile import NamedTemporaryFile\n",
        "from urllib.request import urlopen\n",
        "from urllib.parse import unquote, urlparse\n",
        "from urllib.error import HTTPError\n",
        "from zipfile import ZipFile\n",
        "import tarfile\n",
        "import shutil\n",
        "\n",
        "CHUNK_SIZE = 40960\n",
        "DATA_SOURCE_MAPPING = 'museum-collection:https%3A%2F%2Fstorage.googleapis.com%2Fkaggle-data-sets%2F836%2F1535%2Fbundle%2Farchive.zip%3FX-Goog-Algorithm%3DGOOG4-RSA-SHA256%26X-Goog-Credential%3Dgcp-kaggle-com%2540kaggle-161607.iam.gserviceaccount.com%252F20240430%252Fauto%252Fstorage%252Fgoog4_request%26X-Goog-Date%3D20240430T004412Z%26X-Goog-Expires%3D259200%26X-Goog-SignedHeaders%3Dhost%26X-Goog-Signature%3D83dbc6c98b27815c885bbe11c21b592531be8ac4d0408617b0ea5b665e5d853e5c9509a11c586e9c5acd48961bf6f39c9a3e5e6d5349d7e0785c1448473f76a742bf7ca41295daca19798efe233d3688966428fd66e9ae747fbf4ba95b0cfcfeb9b957179ab7bc956f4220267ff6a5ba7dfabe6c0354237e467a1ac4d80769d63531c450efab00d78822e291eb4589adfee3d4196621b6009552a153e5bb20e21dea3ffe4e35065038ac58bf9c5bd566cbdba7c314dcf02bbe4c1ab5ece1b901652ad40bdcf7cd589dcd70aefde3d82143a6c188d6063ead423746bbaf92c96c61f25719b8893942170725216af9360be363d0f49b6bf2d0a62d914d1818c2cc'\n",
        "\n",
        "KAGGLE_INPUT_PATH='/kaggle/input'\n",
        "KAGGLE_WORKING_PATH='/kaggle/working'\n",
        "KAGGLE_SYMLINK='kaggle'\n",
        "\n",
        "!umount /kaggle/input/ 2> /dev/null\n",
        "shutil.rmtree('/kaggle/input', ignore_errors=True)\n",
        "os.makedirs(KAGGLE_INPUT_PATH, 0o777, exist_ok=True)\n",
        "os.makedirs(KAGGLE_WORKING_PATH, 0o777, exist_ok=True)\n",
        "\n",
        "try:\n",
        "  os.symlink(KAGGLE_INPUT_PATH, os.path.join(\"..\", 'input'), target_is_directory=True)\n",
        "except FileExistsError:\n",
        "  pass\n",
        "try:\n",
        "  os.symlink(KAGGLE_WORKING_PATH, os.path.join(\"..\", 'working'), target_is_directory=True)\n",
        "except FileExistsError:\n",
        "  pass\n",
        "\n",
        "for data_source_mapping in DATA_SOURCE_MAPPING.split(','):\n",
        "    directory, download_url_encoded = data_source_mapping.split(':')\n",
        "    download_url = unquote(download_url_encoded)\n",
        "    filename = urlparse(download_url).path\n",
        "    destination_path = os.path.join(KAGGLE_INPUT_PATH, directory)\n",
        "    try:\n",
        "        with urlopen(download_url) as fileres, NamedTemporaryFile() as tfile:\n",
        "            total_length = fileres.headers['content-length']\n",
        "            print(f'Downloading {directory}, {total_length} bytes compressed')\n",
        "            dl = 0\n",
        "            data = fileres.read(CHUNK_SIZE)\n",
        "            while len(data) > 0:\n",
        "                dl += len(data)\n",
        "                tfile.write(data)\n",
        "                done = int(50 * dl / int(total_length))\n",
        "                sys.stdout.write(f\"\\r[{'=' * done}{' ' * (50-done)}] {dl} bytes downloaded\")\n",
        "                sys.stdout.flush()\n",
        "                data = fileres.read(CHUNK_SIZE)\n",
        "            if filename.endswith('.zip'):\n",
        "              with ZipFile(tfile) as zfile:\n",
        "                zfile.extractall(destination_path)\n",
        "            else:\n",
        "              with tarfile.open(tfile.name) as tarfile:\n",
        "                tarfile.extractall(destination_path)\n",
        "            print(f'\\nDownloaded and uncompressed: {directory}')\n",
        "    except HTTPError as e:\n",
        "        print(f'Failed to load (likely expired) {download_url} to path {destination_path}')\n",
        "        continue\n",
        "    except OSError as e:\n",
        "        print(f'Failed to load {download_url} to path {destination_path}')\n",
        "        continue\n",
        "\n",
        "print('Data source import complete.')\n"
      ],
      "metadata": {
        "id": "IP7kH-icdZaE"
      },
      "cell_type": "code",
      "outputs": [],
      "execution_count": null
    },
    {
      "cell_type": "code",
      "source": [
        "# This Python 3 environment comes with many helpful analytics libraries installed\n",
        "# It is defined by the kaggle/python Docker image: https://github.com/kaggle/docker-python\n",
        "# For example, here's several helpful packages to load\n",
        "\n",
        "import numpy as np # linear algebra\n",
        "import pandas as pd # data processing, CSV file I/O (e.g. pd.read_csv)\n",
        "\n",
        "# Input data files are available in the read-only \"../input/\" directory\n",
        "# For example, running this (by clicking run or pressing Shift+Enter) will list all files under the input directory\n",
        "\n",
        "import os\n",
        "for dirname, _, filenames in os.walk('/kaggle/input'):\n",
        "    for filename in filenames:\n",
        "        print(os.path.join(dirname, filename))\n",
        "\n",
        "# You can write up to 20GB to the current directory (/kaggle/working/) that gets preserved as output when you create a version using \"Save & Run All\"\n",
        "# You can also write temporary files to /kaggle/temp/, but they won't be saved outside of the current session"
      ],
      "metadata": {
        "_uuid": "8f2839f25d086af736a60e9eeb907d3b93b6e0e5",
        "_cell_guid": "b1076dfc-b9ad-4769-8c92-a6c4dae69d19",
        "execution": {
          "iopub.status.busy": "2024-04-29T23:35:13.199771Z",
          "iopub.execute_input": "2024-04-29T23:35:13.2002Z",
          "iopub.status.idle": "2024-04-29T23:35:13.675205Z",
          "shell.execute_reply.started": "2024-04-29T23:35:13.200167Z",
          "shell.execute_reply": "2024-04-29T23:35:13.673726Z"
        },
        "trusted": true,
        "id": "tu2Az8NpdZaF",
        "outputId": "279c5990-cc79-4812-af3b-b6c3b47fa78c"
      },
      "execution_count": null,
      "outputs": [
        {
          "name": "stdout",
          "text": "/kaggle/input/museum-collection/artworks.csv\n/kaggle/input/museum-collection/artists.csv\n",
          "output_type": "stream"
        }
      ]
    },
    {
      "cell_type": "code",
      "source": [
        "# Read the csv files\n",
        "artist = pd.read_csv('/kaggle/input/museum-collection/artists.csv')\n",
        "artwork = pd.read_csv('/kaggle/input/museum-collection/artworks.csv')"
      ],
      "metadata": {
        "execution": {
          "iopub.status.busy": "2024-04-29T23:37:10.616569Z",
          "iopub.execute_input": "2024-04-29T23:37:10.617019Z",
          "iopub.status.idle": "2024-04-29T23:37:11.553885Z",
          "shell.execute_reply.started": "2024-04-29T23:37:10.616984Z",
          "shell.execute_reply": "2024-04-29T23:37:11.552726Z"
        },
        "trusted": true,
        "id": "-S6zZ4fmdZaG"
      },
      "execution_count": null,
      "outputs": []
    },
    {
      "cell_type": "markdown",
      "source": [
        "This Data contains data about artists and their artwork. We have to join the two datasets to get meaningful insights out of hte data."
      ],
      "metadata": {
        "id": "7V37GGywdZaG"
      }
    },
    {
      "cell_type": "code",
      "source": [
        "print(artist.shape)\n",
        "print(artwork.shape)"
      ],
      "metadata": {
        "execution": {
          "iopub.status.busy": "2024-04-29T23:38:12.488712Z",
          "iopub.execute_input": "2024-04-29T23:38:12.489714Z",
          "iopub.status.idle": "2024-04-29T23:38:12.49577Z",
          "shell.execute_reply.started": "2024-04-29T23:38:12.489669Z",
          "shell.execute_reply": "2024-04-29T23:38:12.494635Z"
        },
        "trusted": true,
        "id": "rBV9MthgdZaH",
        "outputId": "00c64d38-788c-41df-9377-f2f4632ba636"
      },
      "execution_count": null,
      "outputs": [
        {
          "name": "stdout",
          "text": "(15091, 6)\n(130262, 21)\n",
          "output_type": "stream"
        }
      ]
    }
  ]
}